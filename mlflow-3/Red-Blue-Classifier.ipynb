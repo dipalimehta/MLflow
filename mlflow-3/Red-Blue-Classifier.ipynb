{
 "cells": [
  {
   "cell_type": "markdown",
   "id": "72536068",
   "metadata": {
    "slideshow": {
     "slide_type": "-"
    }
   },
   "source": [
    "### Import Libraries"
   ]
  },
  {
   "cell_type": "code",
   "execution_count": 1,
   "id": "9a7e70cf",
   "metadata": {
    "ExecuteTime": {
     "end_time": "2021-12-11T08:17:56.489839Z",
     "start_time": "2021-12-11T08:17:56.042500Z"
    },
    "slideshow": {
     "slide_type": "-"
    }
   },
   "outputs": [],
   "source": [
    "import pickle\n",
    "from sklearn.metrics import accuracy_score, classification_report, confusion_matrix\n",
    "from sklearn.preprocessing import MinMaxScaler\n",
    "from sklearn.neighbors import KNeighborsClassifier\n",
    "from sklearn.tree import DecisionTreeClassifier\n",
    "from sklearn.model_selection import train_test_split, cross_val_score\n",
    "\n",
    "import pandas as pd\n",
    "import datetime"
   ]
  },
  {
   "cell_type": "markdown",
   "id": "0ef6cfd4",
   "metadata": {
    "slideshow": {
     "slide_type": "-"
    }
   },
   "source": [
    "### Code\n",
    "\n",
    "The following functions are used for creating binary classifier<br/>\n",
    "1. **transform_data** - Transforms Data using a MinMaxScaler, fits the data and saves the scaler\n",
    "2. **train_model** - Performs Test/Train Split, trains a KNN Classifier. Returns Model and metrics.\n",
    "3. **scale_data** - Scale the given input as per the given scaler."
   ]
  },
  {
   "cell_type": "code",
   "execution_count": 2,
   "id": "b2b08dea",
   "metadata": {
    "ExecuteTime": {
     "end_time": "2021-12-11T08:17:59.366855Z",
     "start_time": "2021-12-11T08:17:59.361497Z"
    },
    "slideshow": {
     "slide_type": "-"
    }
   },
   "outputs": [],
   "source": [
    "def transform_data(data, scaler_name):\n",
    "    X = data.drop(columns=[\"label\"], axis=1)\n",
    "    y = data[[\"label\"]]\n",
    "\n",
    "    scaler = None\n",
    "\n",
    "    try:\n",
    "        with open(\"./\"+scaler_name+\".pkl\", \"rb\") as fp:\n",
    "            scaler = pickle.load(fp)\n",
    "    except FileNotFoundError as e:\n",
    "        print(\"Scaler Not Found! Will create a new one.\")\n",
    "        scaler = MinMaxScaler()\n",
    "\n",
    "    scaler.partial_fit(X)\n",
    "    X = scaler.transform(X)\n",
    "\n",
    "    scale = {\n",
    "        \"min\": scaler.data_min_,\n",
    "        \"max\": scaler.data_max_\n",
    "    }\n",
    "\n",
    "    with open(\"./\"+scaler_name+\".pkl\", \"wb\") as fp:\n",
    "        print('Saving Scaler...', scale)\n",
    "        pickle.dump(scaler, fp)\n",
    "\n",
    "    return X, y[\"label\"]"
   ]
  },
  {
   "cell_type": "code",
   "execution_count": 3,
   "id": "dff32503",
   "metadata": {
    "ExecuteTime": {
     "end_time": "2021-12-11T08:18:01.953060Z",
     "start_time": "2021-12-11T08:18:01.948563Z"
    },
    "slideshow": {
     "slide_type": "-"
    }
   },
   "outputs": [],
   "source": [
    "def train_model(X, y, model):\n",
    "    X_train, X_test, y_train, y_test = train_test_split(\n",
    "        X, y, test_size=0.2, random_state=1)\n",
    "    model.fit(X_train, y_train)\n",
    "    y_pred = model.predict(X_test)\n",
    "    metrics = {\n",
    "        \"accuracy\": accuracy_score(y_test, y_pred),\n",
    "        \"cv_score\": cross_val_score(model, X, y, cv=10),\n",
    "        \"class_report\": classification_report(y_test, y_pred, output_dict=True),\n",
    "        \"confusion_matrix\": confusion_matrix(y_test, y_pred)\n",
    "    }\n",
    "    return metrics"
   ]
  },
  {
   "cell_type": "code",
   "execution_count": 4,
   "id": "fb3b204e",
   "metadata": {
    "ExecuteTime": {
     "end_time": "2021-12-11T08:18:04.406083Z",
     "start_time": "2021-12-11T08:18:04.399084Z"
    },
    "slideshow": {
     "slide_type": "subslide"
    }
   },
   "outputs": [],
   "source": [
    "def scale_data(scaler_name,datadf):\n",
    "    scaler = None\n",
    "    with open(\"./\"+scaler_name+\".pkl\", \"rb\") as fp:\n",
    "        scaler = pickle.load(fp)\n",
    "    data = scaler.transform(datadf)\n",
    "    return data"
   ]
  },
  {
   "cell_type": "markdown",
   "id": "1417bf1d",
   "metadata": {
    "ExecuteTime": {
     "end_time": "2021-11-29T13:14:38.025911Z",
     "start_time": "2021-11-29T13:14:38.018473Z"
    }
   },
   "source": [
    "---"
   ]
  },
  {
   "cell_type": "markdown",
   "id": "15827eb8",
   "metadata": {},
   "source": [
    "### Training and Tracking  - KNN\n",
    "\n",
    "Train model on individual data and then test the model on testdata"
   ]
  },
  {
   "cell_type": "code",
   "execution_count": 5,
   "id": "39c65f8e",
   "metadata": {
    "ExecuteTime": {
     "end_time": "2021-12-11T08:18:07.400451Z",
     "start_time": "2021-12-11T08:18:06.940182Z"
    }
   },
   "outputs": [
    {
     "ename": "MlflowException",
     "evalue": "API request to http://127.0.0.1:5000/api/2.0/mlflow/experiments/get-by-name failed with exception HTTPConnectionPool(host='127.0.0.1', port=5000): Max retries exceeded with url: /api/2.0/mlflow/experiments/get-by-name?experiment_name=Red-Blue-Experiment (Caused by NewConnectionError('<urllib3.connection.HTTPConnection object at 0x000002EAB70611F0>: Failed to establish a new connection: [WinError 10061] No connection could be made because the target machine actively refused it'))",
     "output_type": "error",
     "traceback": [
      "\u001b[1;31m---------------------------------------------------------------------------\u001b[0m",
      "\u001b[1;31mConnectionRefusedError\u001b[0m                    Traceback (most recent call last)",
      "File \u001b[1;32m~\\AppData\\Local\\Packages\\PythonSoftwareFoundation.Python.3.9_qbz5n2kfra8p0\\LocalCache\\local-packages\\Python39\\site-packages\\urllib3\\connection.py:174\u001b[0m, in \u001b[0;36mHTTPConnection._new_conn\u001b[1;34m(self)\u001b[0m\n\u001b[0;32m    173\u001b[0m \u001b[39mtry\u001b[39;00m:\n\u001b[1;32m--> 174\u001b[0m     conn \u001b[39m=\u001b[39m connection\u001b[39m.\u001b[39mcreate_connection(\n\u001b[0;32m    175\u001b[0m         (\u001b[39mself\u001b[39m\u001b[39m.\u001b[39m_dns_host, \u001b[39mself\u001b[39m\u001b[39m.\u001b[39mport), \u001b[39mself\u001b[39m\u001b[39m.\u001b[39mtimeout, \u001b[39m*\u001b[39m\u001b[39m*\u001b[39mextra_kw\n\u001b[0;32m    176\u001b[0m     )\n\u001b[0;32m    178\u001b[0m \u001b[39mexcept\u001b[39;00m SocketTimeout:\n",
      "File \u001b[1;32m~\\AppData\\Local\\Packages\\PythonSoftwareFoundation.Python.3.9_qbz5n2kfra8p0\\LocalCache\\local-packages\\Python39\\site-packages\\urllib3\\util\\connection.py:95\u001b[0m, in \u001b[0;36mcreate_connection\u001b[1;34m(address, timeout, source_address, socket_options)\u001b[0m\n\u001b[0;32m     94\u001b[0m \u001b[39mif\u001b[39;00m err \u001b[39mis\u001b[39;00m \u001b[39mnot\u001b[39;00m \u001b[39mNone\u001b[39;00m:\n\u001b[1;32m---> 95\u001b[0m     \u001b[39mraise\u001b[39;00m err\n\u001b[0;32m     97\u001b[0m \u001b[39mraise\u001b[39;00m socket\u001b[39m.\u001b[39merror(\u001b[39m\"\u001b[39m\u001b[39mgetaddrinfo returns an empty list\u001b[39m\u001b[39m\"\u001b[39m)\n",
      "File \u001b[1;32m~\\AppData\\Local\\Packages\\PythonSoftwareFoundation.Python.3.9_qbz5n2kfra8p0\\LocalCache\\local-packages\\Python39\\site-packages\\urllib3\\util\\connection.py:85\u001b[0m, in \u001b[0;36mcreate_connection\u001b[1;34m(address, timeout, source_address, socket_options)\u001b[0m\n\u001b[0;32m     84\u001b[0m     sock\u001b[39m.\u001b[39mbind(source_address)\n\u001b[1;32m---> 85\u001b[0m sock\u001b[39m.\u001b[39;49mconnect(sa)\n\u001b[0;32m     86\u001b[0m \u001b[39mreturn\u001b[39;00m sock\n",
      "\u001b[1;31mConnectionRefusedError\u001b[0m: [WinError 10061] No connection could be made because the target machine actively refused it",
      "\nDuring handling of the above exception, another exception occurred:\n",
      "\u001b[1;31mNewConnectionError\u001b[0m                        Traceback (most recent call last)",
      "File \u001b[1;32m~\\AppData\\Local\\Packages\\PythonSoftwareFoundation.Python.3.9_qbz5n2kfra8p0\\LocalCache\\local-packages\\Python39\\site-packages\\urllib3\\connectionpool.py:703\u001b[0m, in \u001b[0;36mHTTPConnectionPool.urlopen\u001b[1;34m(self, method, url, body, headers, retries, redirect, assert_same_host, timeout, pool_timeout, release_conn, chunked, body_pos, **response_kw)\u001b[0m\n\u001b[0;32m    702\u001b[0m \u001b[39m# Make the request on the httplib connection object.\u001b[39;00m\n\u001b[1;32m--> 703\u001b[0m httplib_response \u001b[39m=\u001b[39m \u001b[39mself\u001b[39;49m\u001b[39m.\u001b[39;49m_make_request(\n\u001b[0;32m    704\u001b[0m     conn,\n\u001b[0;32m    705\u001b[0m     method,\n\u001b[0;32m    706\u001b[0m     url,\n\u001b[0;32m    707\u001b[0m     timeout\u001b[39m=\u001b[39;49mtimeout_obj,\n\u001b[0;32m    708\u001b[0m     body\u001b[39m=\u001b[39;49mbody,\n\u001b[0;32m    709\u001b[0m     headers\u001b[39m=\u001b[39;49mheaders,\n\u001b[0;32m    710\u001b[0m     chunked\u001b[39m=\u001b[39;49mchunked,\n\u001b[0;32m    711\u001b[0m )\n\u001b[0;32m    713\u001b[0m \u001b[39m# If we're going to release the connection in ``finally:``, then\u001b[39;00m\n\u001b[0;32m    714\u001b[0m \u001b[39m# the response doesn't need to know about the connection. Otherwise\u001b[39;00m\n\u001b[0;32m    715\u001b[0m \u001b[39m# it will also try to release it and we'll have a double-release\u001b[39;00m\n\u001b[0;32m    716\u001b[0m \u001b[39m# mess.\u001b[39;00m\n",
      "File \u001b[1;32m~\\AppData\\Local\\Packages\\PythonSoftwareFoundation.Python.3.9_qbz5n2kfra8p0\\LocalCache\\local-packages\\Python39\\site-packages\\urllib3\\connectionpool.py:398\u001b[0m, in \u001b[0;36mHTTPConnectionPool._make_request\u001b[1;34m(self, conn, method, url, timeout, chunked, **httplib_request_kw)\u001b[0m\n\u001b[0;32m    397\u001b[0m     \u001b[39melse\u001b[39;00m:\n\u001b[1;32m--> 398\u001b[0m         conn\u001b[39m.\u001b[39mrequest(method, url, \u001b[39m*\u001b[39m\u001b[39m*\u001b[39mhttplib_request_kw)\n\u001b[0;32m    400\u001b[0m \u001b[39m# We are swallowing BrokenPipeError (errno.EPIPE) since the server is\u001b[39;00m\n\u001b[0;32m    401\u001b[0m \u001b[39m# legitimately able to close the connection after sending a valid response.\u001b[39;00m\n\u001b[0;32m    402\u001b[0m \u001b[39m# With this behaviour, the received response is still readable.\u001b[39;00m\n",
      "File \u001b[1;32m~\\AppData\\Local\\Packages\\PythonSoftwareFoundation.Python.3.9_qbz5n2kfra8p0\\LocalCache\\local-packages\\Python39\\site-packages\\urllib3\\connection.py:239\u001b[0m, in \u001b[0;36mHTTPConnection.request\u001b[1;34m(self, method, url, body, headers)\u001b[0m\n\u001b[0;32m    238\u001b[0m     headers[\u001b[39m\"\u001b[39m\u001b[39mUser-Agent\u001b[39m\u001b[39m\"\u001b[39m] \u001b[39m=\u001b[39m _get_default_user_agent()\n\u001b[1;32m--> 239\u001b[0m \u001b[39msuper\u001b[39;49m(HTTPConnection, \u001b[39mself\u001b[39;49m)\u001b[39m.\u001b[39;49mrequest(method, url, body\u001b[39m=\u001b[39;49mbody, headers\u001b[39m=\u001b[39;49mheaders)\n",
      "File \u001b[1;32mC:\\Program Files\\WindowsApps\\PythonSoftwareFoundation.Python.3.9_3.9.3568.0_x64__qbz5n2kfra8p0\\lib\\http\\client.py:1285\u001b[0m, in \u001b[0;36mHTTPConnection.request\u001b[1;34m(self, method, url, body, headers, encode_chunked)\u001b[0m\n\u001b[0;32m   1284\u001b[0m \u001b[39m\"\"\"Send a complete request to the server.\"\"\"\u001b[39;00m\n\u001b[1;32m-> 1285\u001b[0m \u001b[39mself\u001b[39;49m\u001b[39m.\u001b[39;49m_send_request(method, url, body, headers, encode_chunked)\n",
      "File \u001b[1;32mC:\\Program Files\\WindowsApps\\PythonSoftwareFoundation.Python.3.9_3.9.3568.0_x64__qbz5n2kfra8p0\\lib\\http\\client.py:1331\u001b[0m, in \u001b[0;36mHTTPConnection._send_request\u001b[1;34m(self, method, url, body, headers, encode_chunked)\u001b[0m\n\u001b[0;32m   1330\u001b[0m     body \u001b[39m=\u001b[39m _encode(body, \u001b[39m'\u001b[39m\u001b[39mbody\u001b[39m\u001b[39m'\u001b[39m)\n\u001b[1;32m-> 1331\u001b[0m \u001b[39mself\u001b[39;49m\u001b[39m.\u001b[39;49mendheaders(body, encode_chunked\u001b[39m=\u001b[39;49mencode_chunked)\n",
      "File \u001b[1;32mC:\\Program Files\\WindowsApps\\PythonSoftwareFoundation.Python.3.9_3.9.3568.0_x64__qbz5n2kfra8p0\\lib\\http\\client.py:1280\u001b[0m, in \u001b[0;36mHTTPConnection.endheaders\u001b[1;34m(self, message_body, encode_chunked)\u001b[0m\n\u001b[0;32m   1279\u001b[0m     \u001b[39mraise\u001b[39;00m CannotSendHeader()\n\u001b[1;32m-> 1280\u001b[0m \u001b[39mself\u001b[39;49m\u001b[39m.\u001b[39;49m_send_output(message_body, encode_chunked\u001b[39m=\u001b[39;49mencode_chunked)\n",
      "File \u001b[1;32mC:\\Program Files\\WindowsApps\\PythonSoftwareFoundation.Python.3.9_3.9.3568.0_x64__qbz5n2kfra8p0\\lib\\http\\client.py:1040\u001b[0m, in \u001b[0;36mHTTPConnection._send_output\u001b[1;34m(self, message_body, encode_chunked)\u001b[0m\n\u001b[0;32m   1039\u001b[0m \u001b[39mdel\u001b[39;00m \u001b[39mself\u001b[39m\u001b[39m.\u001b[39m_buffer[:]\n\u001b[1;32m-> 1040\u001b[0m \u001b[39mself\u001b[39;49m\u001b[39m.\u001b[39;49msend(msg)\n\u001b[0;32m   1042\u001b[0m \u001b[39mif\u001b[39;00m message_body \u001b[39mis\u001b[39;00m \u001b[39mnot\u001b[39;00m \u001b[39mNone\u001b[39;00m:\n\u001b[0;32m   1043\u001b[0m \n\u001b[0;32m   1044\u001b[0m     \u001b[39m# create a consistent interface to message_body\u001b[39;00m\n",
      "File \u001b[1;32mC:\\Program Files\\WindowsApps\\PythonSoftwareFoundation.Python.3.9_3.9.3568.0_x64__qbz5n2kfra8p0\\lib\\http\\client.py:980\u001b[0m, in \u001b[0;36mHTTPConnection.send\u001b[1;34m(self, data)\u001b[0m\n\u001b[0;32m    979\u001b[0m \u001b[39mif\u001b[39;00m \u001b[39mself\u001b[39m\u001b[39m.\u001b[39mauto_open:\n\u001b[1;32m--> 980\u001b[0m     \u001b[39mself\u001b[39;49m\u001b[39m.\u001b[39;49mconnect()\n\u001b[0;32m    981\u001b[0m \u001b[39melse\u001b[39;00m:\n",
      "File \u001b[1;32m~\\AppData\\Local\\Packages\\PythonSoftwareFoundation.Python.3.9_qbz5n2kfra8p0\\LocalCache\\local-packages\\Python39\\site-packages\\urllib3\\connection.py:205\u001b[0m, in \u001b[0;36mHTTPConnection.connect\u001b[1;34m(self)\u001b[0m\n\u001b[0;32m    204\u001b[0m \u001b[39mdef\u001b[39;00m \u001b[39mconnect\u001b[39m(\u001b[39mself\u001b[39m):\n\u001b[1;32m--> 205\u001b[0m     conn \u001b[39m=\u001b[39m \u001b[39mself\u001b[39;49m\u001b[39m.\u001b[39;49m_new_conn()\n\u001b[0;32m    206\u001b[0m     \u001b[39mself\u001b[39m\u001b[39m.\u001b[39m_prepare_conn(conn)\n",
      "File \u001b[1;32m~\\AppData\\Local\\Packages\\PythonSoftwareFoundation.Python.3.9_qbz5n2kfra8p0\\LocalCache\\local-packages\\Python39\\site-packages\\urllib3\\connection.py:186\u001b[0m, in \u001b[0;36mHTTPConnection._new_conn\u001b[1;34m(self)\u001b[0m\n\u001b[0;32m    185\u001b[0m \u001b[39mexcept\u001b[39;00m SocketError \u001b[39mas\u001b[39;00m e:\n\u001b[1;32m--> 186\u001b[0m     \u001b[39mraise\u001b[39;00m NewConnectionError(\n\u001b[0;32m    187\u001b[0m         \u001b[39mself\u001b[39m, \u001b[39m\"\u001b[39m\u001b[39mFailed to establish a new connection: \u001b[39m\u001b[39m%s\u001b[39;00m\u001b[39m\"\u001b[39m \u001b[39m%\u001b[39m e\n\u001b[0;32m    188\u001b[0m     )\n\u001b[0;32m    190\u001b[0m \u001b[39mreturn\u001b[39;00m conn\n",
      "\u001b[1;31mNewConnectionError\u001b[0m: <urllib3.connection.HTTPConnection object at 0x000002EAB70611F0>: Failed to establish a new connection: [WinError 10061] No connection could be made because the target machine actively refused it",
      "\nDuring handling of the above exception, another exception occurred:\n",
      "\u001b[1;31mMaxRetryError\u001b[0m                             Traceback (most recent call last)",
      "File \u001b[1;32m~\\AppData\\Local\\Packages\\PythonSoftwareFoundation.Python.3.9_qbz5n2kfra8p0\\LocalCache\\local-packages\\Python39\\site-packages\\requests\\adapters.py:489\u001b[0m, in \u001b[0;36mHTTPAdapter.send\u001b[1;34m(self, request, stream, timeout, verify, cert, proxies)\u001b[0m\n\u001b[0;32m    488\u001b[0m \u001b[39mif\u001b[39;00m \u001b[39mnot\u001b[39;00m chunked:\n\u001b[1;32m--> 489\u001b[0m     resp \u001b[39m=\u001b[39m conn\u001b[39m.\u001b[39;49murlopen(\n\u001b[0;32m    490\u001b[0m         method\u001b[39m=\u001b[39;49mrequest\u001b[39m.\u001b[39;49mmethod,\n\u001b[0;32m    491\u001b[0m         url\u001b[39m=\u001b[39;49murl,\n\u001b[0;32m    492\u001b[0m         body\u001b[39m=\u001b[39;49mrequest\u001b[39m.\u001b[39;49mbody,\n\u001b[0;32m    493\u001b[0m         headers\u001b[39m=\u001b[39;49mrequest\u001b[39m.\u001b[39;49mheaders,\n\u001b[0;32m    494\u001b[0m         redirect\u001b[39m=\u001b[39;49m\u001b[39mFalse\u001b[39;49;00m,\n\u001b[0;32m    495\u001b[0m         assert_same_host\u001b[39m=\u001b[39;49m\u001b[39mFalse\u001b[39;49;00m,\n\u001b[0;32m    496\u001b[0m         preload_content\u001b[39m=\u001b[39;49m\u001b[39mFalse\u001b[39;49;00m,\n\u001b[0;32m    497\u001b[0m         decode_content\u001b[39m=\u001b[39;49m\u001b[39mFalse\u001b[39;49;00m,\n\u001b[0;32m    498\u001b[0m         retries\u001b[39m=\u001b[39;49m\u001b[39mself\u001b[39;49m\u001b[39m.\u001b[39;49mmax_retries,\n\u001b[0;32m    499\u001b[0m         timeout\u001b[39m=\u001b[39;49mtimeout,\n\u001b[0;32m    500\u001b[0m     )\n\u001b[0;32m    502\u001b[0m \u001b[39m# Send the request.\u001b[39;00m\n\u001b[0;32m    503\u001b[0m \u001b[39melse\u001b[39;00m:\n",
      "File \u001b[1;32m~\\AppData\\Local\\Packages\\PythonSoftwareFoundation.Python.3.9_qbz5n2kfra8p0\\LocalCache\\local-packages\\Python39\\site-packages\\urllib3\\connectionpool.py:815\u001b[0m, in \u001b[0;36mHTTPConnectionPool.urlopen\u001b[1;34m(self, method, url, body, headers, retries, redirect, assert_same_host, timeout, pool_timeout, release_conn, chunked, body_pos, **response_kw)\u001b[0m\n\u001b[0;32m    812\u001b[0m     log\u001b[39m.\u001b[39mwarning(\n\u001b[0;32m    813\u001b[0m         \u001b[39m\"\u001b[39m\u001b[39mRetrying (\u001b[39m\u001b[39m%r\u001b[39;00m\u001b[39m) after connection broken by \u001b[39m\u001b[39m'\u001b[39m\u001b[39m%r\u001b[39;00m\u001b[39m'\u001b[39m\u001b[39m: \u001b[39m\u001b[39m%s\u001b[39;00m\u001b[39m\"\u001b[39m, retries, err, url\n\u001b[0;32m    814\u001b[0m     )\n\u001b[1;32m--> 815\u001b[0m     \u001b[39mreturn\u001b[39;00m \u001b[39mself\u001b[39m\u001b[39m.\u001b[39murlopen(\n\u001b[0;32m    816\u001b[0m         method,\n\u001b[0;32m    817\u001b[0m         url,\n\u001b[0;32m    818\u001b[0m         body,\n\u001b[0;32m    819\u001b[0m         headers,\n\u001b[0;32m    820\u001b[0m         retries,\n\u001b[0;32m    821\u001b[0m         redirect,\n\u001b[0;32m    822\u001b[0m         assert_same_host,\n\u001b[0;32m    823\u001b[0m         timeout\u001b[39m=\u001b[39mtimeout,\n\u001b[0;32m    824\u001b[0m         pool_timeout\u001b[39m=\u001b[39mpool_timeout,\n\u001b[0;32m    825\u001b[0m         release_conn\u001b[39m=\u001b[39mrelease_conn,\n\u001b[0;32m    826\u001b[0m         chunked\u001b[39m=\u001b[39mchunked,\n\u001b[0;32m    827\u001b[0m         body_pos\u001b[39m=\u001b[39mbody_pos,\n\u001b[0;32m    828\u001b[0m         \u001b[39m*\u001b[39m\u001b[39m*\u001b[39mresponse_kw\n\u001b[0;32m    829\u001b[0m     )\n\u001b[0;32m    831\u001b[0m \u001b[39m# Handle redirect?\u001b[39;00m\n",
      "File \u001b[1;32m~\\AppData\\Local\\Packages\\PythonSoftwareFoundation.Python.3.9_qbz5n2kfra8p0\\LocalCache\\local-packages\\Python39\\site-packages\\urllib3\\connectionpool.py:815\u001b[0m, in \u001b[0;36mHTTPConnectionPool.urlopen\u001b[1;34m(self, method, url, body, headers, retries, redirect, assert_same_host, timeout, pool_timeout, release_conn, chunked, body_pos, **response_kw)\u001b[0m\n\u001b[0;32m    812\u001b[0m     log\u001b[39m.\u001b[39mwarning(\n\u001b[0;32m    813\u001b[0m         \u001b[39m\"\u001b[39m\u001b[39mRetrying (\u001b[39m\u001b[39m%r\u001b[39;00m\u001b[39m) after connection broken by \u001b[39m\u001b[39m'\u001b[39m\u001b[39m%r\u001b[39;00m\u001b[39m'\u001b[39m\u001b[39m: \u001b[39m\u001b[39m%s\u001b[39;00m\u001b[39m\"\u001b[39m, retries, err, url\n\u001b[0;32m    814\u001b[0m     )\n\u001b[1;32m--> 815\u001b[0m     \u001b[39mreturn\u001b[39;00m \u001b[39mself\u001b[39m\u001b[39m.\u001b[39murlopen(\n\u001b[0;32m    816\u001b[0m         method,\n\u001b[0;32m    817\u001b[0m         url,\n\u001b[0;32m    818\u001b[0m         body,\n\u001b[0;32m    819\u001b[0m         headers,\n\u001b[0;32m    820\u001b[0m         retries,\n\u001b[0;32m    821\u001b[0m         redirect,\n\u001b[0;32m    822\u001b[0m         assert_same_host,\n\u001b[0;32m    823\u001b[0m         timeout\u001b[39m=\u001b[39mtimeout,\n\u001b[0;32m    824\u001b[0m         pool_timeout\u001b[39m=\u001b[39mpool_timeout,\n\u001b[0;32m    825\u001b[0m         release_conn\u001b[39m=\u001b[39mrelease_conn,\n\u001b[0;32m    826\u001b[0m         chunked\u001b[39m=\u001b[39mchunked,\n\u001b[0;32m    827\u001b[0m         body_pos\u001b[39m=\u001b[39mbody_pos,\n\u001b[0;32m    828\u001b[0m         \u001b[39m*\u001b[39m\u001b[39m*\u001b[39mresponse_kw\n\u001b[0;32m    829\u001b[0m     )\n\u001b[0;32m    831\u001b[0m \u001b[39m# Handle redirect?\u001b[39;00m\n",
      "    \u001b[1;31m[... skipping similar frames: HTTPConnectionPool.urlopen at line 815 (2 times)]\u001b[0m\n",
      "File \u001b[1;32m~\\AppData\\Local\\Packages\\PythonSoftwareFoundation.Python.3.9_qbz5n2kfra8p0\\LocalCache\\local-packages\\Python39\\site-packages\\urllib3\\connectionpool.py:815\u001b[0m, in \u001b[0;36mHTTPConnectionPool.urlopen\u001b[1;34m(self, method, url, body, headers, retries, redirect, assert_same_host, timeout, pool_timeout, release_conn, chunked, body_pos, **response_kw)\u001b[0m\n\u001b[0;32m    812\u001b[0m     log\u001b[39m.\u001b[39mwarning(\n\u001b[0;32m    813\u001b[0m         \u001b[39m\"\u001b[39m\u001b[39mRetrying (\u001b[39m\u001b[39m%r\u001b[39;00m\u001b[39m) after connection broken by \u001b[39m\u001b[39m'\u001b[39m\u001b[39m%r\u001b[39;00m\u001b[39m'\u001b[39m\u001b[39m: \u001b[39m\u001b[39m%s\u001b[39;00m\u001b[39m\"\u001b[39m, retries, err, url\n\u001b[0;32m    814\u001b[0m     )\n\u001b[1;32m--> 815\u001b[0m     \u001b[39mreturn\u001b[39;00m \u001b[39mself\u001b[39m\u001b[39m.\u001b[39murlopen(\n\u001b[0;32m    816\u001b[0m         method,\n\u001b[0;32m    817\u001b[0m         url,\n\u001b[0;32m    818\u001b[0m         body,\n\u001b[0;32m    819\u001b[0m         headers,\n\u001b[0;32m    820\u001b[0m         retries,\n\u001b[0;32m    821\u001b[0m         redirect,\n\u001b[0;32m    822\u001b[0m         assert_same_host,\n\u001b[0;32m    823\u001b[0m         timeout\u001b[39m=\u001b[39mtimeout,\n\u001b[0;32m    824\u001b[0m         pool_timeout\u001b[39m=\u001b[39mpool_timeout,\n\u001b[0;32m    825\u001b[0m         release_conn\u001b[39m=\u001b[39mrelease_conn,\n\u001b[0;32m    826\u001b[0m         chunked\u001b[39m=\u001b[39mchunked,\n\u001b[0;32m    827\u001b[0m         body_pos\u001b[39m=\u001b[39mbody_pos,\n\u001b[0;32m    828\u001b[0m         \u001b[39m*\u001b[39m\u001b[39m*\u001b[39mresponse_kw\n\u001b[0;32m    829\u001b[0m     )\n\u001b[0;32m    831\u001b[0m \u001b[39m# Handle redirect?\u001b[39;00m\n",
      "File \u001b[1;32m~\\AppData\\Local\\Packages\\PythonSoftwareFoundation.Python.3.9_qbz5n2kfra8p0\\LocalCache\\local-packages\\Python39\\site-packages\\urllib3\\connectionpool.py:787\u001b[0m, in \u001b[0;36mHTTPConnectionPool.urlopen\u001b[1;34m(self, method, url, body, headers, retries, redirect, assert_same_host, timeout, pool_timeout, release_conn, chunked, body_pos, **response_kw)\u001b[0m\n\u001b[0;32m    785\u001b[0m     e \u001b[39m=\u001b[39m ProtocolError(\u001b[39m\"\u001b[39m\u001b[39mConnection aborted.\u001b[39m\u001b[39m\"\u001b[39m, e)\n\u001b[1;32m--> 787\u001b[0m retries \u001b[39m=\u001b[39m retries\u001b[39m.\u001b[39;49mincrement(\n\u001b[0;32m    788\u001b[0m     method, url, error\u001b[39m=\u001b[39;49me, _pool\u001b[39m=\u001b[39;49m\u001b[39mself\u001b[39;49m, _stacktrace\u001b[39m=\u001b[39;49msys\u001b[39m.\u001b[39;49mexc_info()[\u001b[39m2\u001b[39;49m]\n\u001b[0;32m    789\u001b[0m )\n\u001b[0;32m    790\u001b[0m retries\u001b[39m.\u001b[39msleep()\n",
      "File \u001b[1;32m~\\AppData\\Local\\Packages\\PythonSoftwareFoundation.Python.3.9_qbz5n2kfra8p0\\LocalCache\\local-packages\\Python39\\site-packages\\urllib3\\util\\retry.py:592\u001b[0m, in \u001b[0;36mRetry.increment\u001b[1;34m(self, method, url, response, error, _pool, _stacktrace)\u001b[0m\n\u001b[0;32m    591\u001b[0m \u001b[39mif\u001b[39;00m new_retry\u001b[39m.\u001b[39mis_exhausted():\n\u001b[1;32m--> 592\u001b[0m     \u001b[39mraise\u001b[39;00m MaxRetryError(_pool, url, error \u001b[39mor\u001b[39;00m ResponseError(cause))\n\u001b[0;32m    594\u001b[0m log\u001b[39m.\u001b[39mdebug(\u001b[39m\"\u001b[39m\u001b[39mIncremented Retry for (url=\u001b[39m\u001b[39m'\u001b[39m\u001b[39m%s\u001b[39;00m\u001b[39m'\u001b[39m\u001b[39m): \u001b[39m\u001b[39m%r\u001b[39;00m\u001b[39m\"\u001b[39m, url, new_retry)\n",
      "\u001b[1;31mMaxRetryError\u001b[0m: HTTPConnectionPool(host='127.0.0.1', port=5000): Max retries exceeded with url: /api/2.0/mlflow/experiments/get-by-name?experiment_name=Red-Blue-Experiment (Caused by NewConnectionError('<urllib3.connection.HTTPConnection object at 0x000002EAB70611F0>: Failed to establish a new connection: [WinError 10061] No connection could be made because the target machine actively refused it'))",
      "\nDuring handling of the above exception, another exception occurred:\n",
      "\u001b[1;31mConnectionError\u001b[0m                           Traceback (most recent call last)",
      "File \u001b[1;32m~\\AppData\\Local\\Packages\\PythonSoftwareFoundation.Python.3.9_qbz5n2kfra8p0\\LocalCache\\local-packages\\Python39\\site-packages\\mlflow\\utils\\rest_utils.py:166\u001b[0m, in \u001b[0;36mhttp_request\u001b[1;34m(host_creds, endpoint, method, max_retries, backoff_factor, retry_codes, timeout, **kwargs)\u001b[0m\n\u001b[0;32m    165\u001b[0m \u001b[39mtry\u001b[39;00m:\n\u001b[1;32m--> 166\u001b[0m     \u001b[39mreturn\u001b[39;00m _get_http_response_with_retries(\n\u001b[0;32m    167\u001b[0m         method,\n\u001b[0;32m    168\u001b[0m         url,\n\u001b[0;32m    169\u001b[0m         max_retries,\n\u001b[0;32m    170\u001b[0m         backoff_factor,\n\u001b[0;32m    171\u001b[0m         retry_codes,\n\u001b[0;32m    172\u001b[0m         headers\u001b[39m=\u001b[39mheaders,\n\u001b[0;32m    173\u001b[0m         verify\u001b[39m=\u001b[39mverify,\n\u001b[0;32m    174\u001b[0m         timeout\u001b[39m=\u001b[39mtimeout,\n\u001b[0;32m    175\u001b[0m         \u001b[39m*\u001b[39m\u001b[39m*\u001b[39mkwargs,\n\u001b[0;32m    176\u001b[0m     )\n\u001b[0;32m    177\u001b[0m \u001b[39mexcept\u001b[39;00m requests\u001b[39m.\u001b[39mexceptions\u001b[39m.\u001b[39mTimeout \u001b[39mas\u001b[39;00m to:\n",
      "File \u001b[1;32m~\\AppData\\Local\\Packages\\PythonSoftwareFoundation.Python.3.9_qbz5n2kfra8p0\\LocalCache\\local-packages\\Python39\\site-packages\\mlflow\\utils\\rest_utils.py:97\u001b[0m, in \u001b[0;36m_get_http_response_with_retries\u001b[1;34m(method, url, max_retries, backoff_factor, retry_codes, **kwargs)\u001b[0m\n\u001b[0;32m     96\u001b[0m session \u001b[39m=\u001b[39m _get_request_session(max_retries, backoff_factor, retry_codes)\n\u001b[1;32m---> 97\u001b[0m \u001b[39mreturn\u001b[39;00m session\u001b[39m.\u001b[39mrequest(method, url, \u001b[39m*\u001b[39m\u001b[39m*\u001b[39mkwargs)\n",
      "File \u001b[1;32m~\\AppData\\Local\\Packages\\PythonSoftwareFoundation.Python.3.9_qbz5n2kfra8p0\\LocalCache\\local-packages\\Python39\\site-packages\\requests\\sessions.py:587\u001b[0m, in \u001b[0;36mSession.request\u001b[1;34m(self, method, url, params, data, headers, cookies, files, auth, timeout, allow_redirects, proxies, hooks, stream, verify, cert, json)\u001b[0m\n\u001b[0;32m    586\u001b[0m send_kwargs\u001b[39m.\u001b[39mupdate(settings)\n\u001b[1;32m--> 587\u001b[0m resp \u001b[39m=\u001b[39m \u001b[39mself\u001b[39m\u001b[39m.\u001b[39msend(prep, \u001b[39m*\u001b[39m\u001b[39m*\u001b[39msend_kwargs)\n\u001b[0;32m    589\u001b[0m \u001b[39mreturn\u001b[39;00m resp\n",
      "File \u001b[1;32m~\\AppData\\Local\\Packages\\PythonSoftwareFoundation.Python.3.9_qbz5n2kfra8p0\\LocalCache\\local-packages\\Python39\\site-packages\\requests\\sessions.py:701\u001b[0m, in \u001b[0;36mSession.send\u001b[1;34m(self, request, **kwargs)\u001b[0m\n\u001b[0;32m    700\u001b[0m \u001b[39m# Send the request\u001b[39;00m\n\u001b[1;32m--> 701\u001b[0m r \u001b[39m=\u001b[39m adapter\u001b[39m.\u001b[39msend(request, \u001b[39m*\u001b[39m\u001b[39m*\u001b[39mkwargs)\n\u001b[0;32m    703\u001b[0m \u001b[39m# Total elapsed time of the request (approximately)\u001b[39;00m\n",
      "File \u001b[1;32m~\\AppData\\Local\\Packages\\PythonSoftwareFoundation.Python.3.9_qbz5n2kfra8p0\\LocalCache\\local-packages\\Python39\\site-packages\\requests\\adapters.py:565\u001b[0m, in \u001b[0;36mHTTPAdapter.send\u001b[1;34m(self, request, stream, timeout, verify, cert, proxies)\u001b[0m\n\u001b[0;32m    563\u001b[0m         \u001b[39mraise\u001b[39;00m SSLError(e, request\u001b[39m=\u001b[39mrequest)\n\u001b[1;32m--> 565\u001b[0m     \u001b[39mraise\u001b[39;00m \u001b[39mConnectionError\u001b[39;00m(e, request\u001b[39m=\u001b[39mrequest)\n\u001b[0;32m    567\u001b[0m \u001b[39mexcept\u001b[39;00m ClosedPoolError \u001b[39mas\u001b[39;00m e:\n",
      "\u001b[1;31mConnectionError\u001b[0m: HTTPConnectionPool(host='127.0.0.1', port=5000): Max retries exceeded with url: /api/2.0/mlflow/experiments/get-by-name?experiment_name=Red-Blue-Experiment (Caused by NewConnectionError('<urllib3.connection.HTTPConnection object at 0x000002EAB70611F0>: Failed to establish a new connection: [WinError 10061] No connection could be made because the target machine actively refused it'))",
      "\nDuring handling of the above exception, another exception occurred:\n",
      "\u001b[1;31mMlflowException\u001b[0m                           Traceback (most recent call last)",
      "Cell \u001b[1;32mIn [5], line 4\u001b[0m\n\u001b[0;32m      2\u001b[0m \u001b[39mfrom\u001b[39;00m \u001b[39mmlflow\u001b[39;00m\u001b[39m.\u001b[39;00m\u001b[39mmodels\u001b[39;00m\u001b[39m.\u001b[39;00m\u001b[39msignature\u001b[39;00m \u001b[39mimport\u001b[39;00m infer_signature\n\u001b[0;32m      3\u001b[0m mlflow\u001b[39m.\u001b[39mset_tracking_uri(\u001b[39m\"\u001b[39m\u001b[39mhttp://127.0.0.1:5000/\u001b[39m\u001b[39m\"\u001b[39m)\n\u001b[1;32m----> 4\u001b[0m mlflow\u001b[39m.\u001b[39;49mset_experiment(\u001b[39m\"\u001b[39;49m\u001b[39mRed-Blue-Experiment\u001b[39;49m\u001b[39m\"\u001b[39;49m)\n",
      "File \u001b[1;32m~\\AppData\\Local\\Packages\\PythonSoftwareFoundation.Python.3.9_qbz5n2kfra8p0\\LocalCache\\local-packages\\Python39\\site-packages\\mlflow\\tracking\\fluent.py:112\u001b[0m, in \u001b[0;36mset_experiment\u001b[1;34m(experiment_name, experiment_id)\u001b[0m\n\u001b[0;32m    110\u001b[0m client \u001b[39m=\u001b[39m MlflowClient()\n\u001b[0;32m    111\u001b[0m \u001b[39mif\u001b[39;00m experiment_id \u001b[39mis\u001b[39;00m \u001b[39mNone\u001b[39;00m:\n\u001b[1;32m--> 112\u001b[0m     experiment \u001b[39m=\u001b[39m client\u001b[39m.\u001b[39;49mget_experiment_by_name(experiment_name)\n\u001b[0;32m    113\u001b[0m     \u001b[39mif\u001b[39;00m \u001b[39mnot\u001b[39;00m experiment:\n\u001b[0;32m    114\u001b[0m         _logger\u001b[39m.\u001b[39minfo(\n\u001b[0;32m    115\u001b[0m             \u001b[39m\"\u001b[39m\u001b[39mExperiment with name \u001b[39m\u001b[39m'\u001b[39m\u001b[39m%s\u001b[39;00m\u001b[39m'\u001b[39m\u001b[39m does not exist. Creating a new experiment.\u001b[39m\u001b[39m\"\u001b[39m,\n\u001b[0;32m    116\u001b[0m             experiment_name,\n\u001b[0;32m    117\u001b[0m         )\n",
      "File \u001b[1;32m~\\AppData\\Local\\Packages\\PythonSoftwareFoundation.Python.3.9_qbz5n2kfra8p0\\LocalCache\\local-packages\\Python39\\site-packages\\mlflow\\tracking\\client.py:451\u001b[0m, in \u001b[0;36mMlflowClient.get_experiment_by_name\u001b[1;34m(self, name)\u001b[0m\n\u001b[0;32m    420\u001b[0m \u001b[39mdef\u001b[39;00m \u001b[39mget_experiment_by_name\u001b[39m(\u001b[39mself\u001b[39m, name: \u001b[39mstr\u001b[39m) \u001b[39m-\u001b[39m\u001b[39m>\u001b[39m Optional[Experiment]:\n\u001b[0;32m    421\u001b[0m     \u001b[39m\"\"\"\u001b[39;00m\n\u001b[0;32m    422\u001b[0m \u001b[39m    Retrieve an experiment by experiment name from the backend store\u001b[39;00m\n\u001b[0;32m    423\u001b[0m \n\u001b[1;32m   (...)\u001b[0m\n\u001b[0;32m    449\u001b[0m \u001b[39m        Lifecycle_stage: active\u001b[39;00m\n\u001b[0;32m    450\u001b[0m \u001b[39m    \"\"\"\u001b[39;00m\n\u001b[1;32m--> 451\u001b[0m     \u001b[39mreturn\u001b[39;00m \u001b[39mself\u001b[39;49m\u001b[39m.\u001b[39;49m_tracking_client\u001b[39m.\u001b[39;49mget_experiment_by_name(name)\n",
      "File \u001b[1;32m~\\AppData\\Local\\Packages\\PythonSoftwareFoundation.Python.3.9_qbz5n2kfra8p0\\LocalCache\\local-packages\\Python39\\site-packages\\mlflow\\tracking\\_tracking_service\\client.py:197\u001b[0m, in \u001b[0;36mTrackingServiceClient.get_experiment_by_name\u001b[1;34m(self, name)\u001b[0m\n\u001b[0;32m    192\u001b[0m \u001b[39mdef\u001b[39;00m \u001b[39mget_experiment_by_name\u001b[39m(\u001b[39mself\u001b[39m, name):\n\u001b[0;32m    193\u001b[0m     \u001b[39m\"\"\"\u001b[39;00m\n\u001b[0;32m    194\u001b[0m \u001b[39m    :param name: The experiment name.\u001b[39;00m\n\u001b[0;32m    195\u001b[0m \u001b[39m    :return: :py:class:`mlflow.entities.Experiment`\u001b[39;00m\n\u001b[0;32m    196\u001b[0m \u001b[39m    \"\"\"\u001b[39;00m\n\u001b[1;32m--> 197\u001b[0m     \u001b[39mreturn\u001b[39;00m \u001b[39mself\u001b[39;49m\u001b[39m.\u001b[39;49mstore\u001b[39m.\u001b[39;49mget_experiment_by_name(name)\n",
      "File \u001b[1;32m~\\AppData\\Local\\Packages\\PythonSoftwareFoundation.Python.3.9_qbz5n2kfra8p0\\LocalCache\\local-packages\\Python39\\site-packages\\mlflow\\store\\tracking\\rest_store.py:290\u001b[0m, in \u001b[0;36mRestStore.get_experiment_by_name\u001b[1;34m(self, experiment_name)\u001b[0m\n\u001b[0;32m    288\u001b[0m \u001b[39mtry\u001b[39;00m:\n\u001b[0;32m    289\u001b[0m     req_body \u001b[39m=\u001b[39m message_to_json(GetExperimentByName(experiment_name\u001b[39m=\u001b[39mexperiment_name))\n\u001b[1;32m--> 290\u001b[0m     response_proto \u001b[39m=\u001b[39m \u001b[39mself\u001b[39;49m\u001b[39m.\u001b[39;49m_call_endpoint(GetExperimentByName, req_body)\n\u001b[0;32m    291\u001b[0m     \u001b[39mreturn\u001b[39;00m Experiment\u001b[39m.\u001b[39mfrom_proto(response_proto\u001b[39m.\u001b[39mexperiment)\n\u001b[0;32m    292\u001b[0m \u001b[39mexcept\u001b[39;00m MlflowException \u001b[39mas\u001b[39;00m e:\n",
      "File \u001b[1;32m~\\AppData\\Local\\Packages\\PythonSoftwareFoundation.Python.3.9_qbz5n2kfra8p0\\LocalCache\\local-packages\\Python39\\site-packages\\mlflow\\store\\tracking\\rest_store.py:56\u001b[0m, in \u001b[0;36mRestStore._call_endpoint\u001b[1;34m(self, api, json_body)\u001b[0m\n\u001b[0;32m     54\u001b[0m endpoint, method \u001b[39m=\u001b[39m _METHOD_TO_INFO[api]\n\u001b[0;32m     55\u001b[0m response_proto \u001b[39m=\u001b[39m api\u001b[39m.\u001b[39mResponse()\n\u001b[1;32m---> 56\u001b[0m \u001b[39mreturn\u001b[39;00m call_endpoint(\u001b[39mself\u001b[39;49m\u001b[39m.\u001b[39;49mget_host_creds(), endpoint, method, json_body, response_proto)\n",
      "File \u001b[1;32m~\\AppData\\Local\\Packages\\PythonSoftwareFoundation.Python.3.9_qbz5n2kfra8p0\\LocalCache\\local-packages\\Python39\\site-packages\\mlflow\\utils\\rest_utils.py:273\u001b[0m, in \u001b[0;36mcall_endpoint\u001b[1;34m(host_creds, endpoint, method, json_body, response_proto)\u001b[0m\n\u001b[0;32m    271\u001b[0m     json_body \u001b[39m=\u001b[39m json\u001b[39m.\u001b[39mloads(json_body)\n\u001b[0;32m    272\u001b[0m \u001b[39mif\u001b[39;00m method \u001b[39m==\u001b[39m \u001b[39m\"\u001b[39m\u001b[39mGET\u001b[39m\u001b[39m\"\u001b[39m:\n\u001b[1;32m--> 273\u001b[0m     response \u001b[39m=\u001b[39m http_request(\n\u001b[0;32m    274\u001b[0m         host_creds\u001b[39m=\u001b[39;49mhost_creds, endpoint\u001b[39m=\u001b[39;49mendpoint, method\u001b[39m=\u001b[39;49mmethod, params\u001b[39m=\u001b[39;49mjson_body\n\u001b[0;32m    275\u001b[0m     )\n\u001b[0;32m    276\u001b[0m \u001b[39melse\u001b[39;00m:\n\u001b[0;32m    277\u001b[0m     response \u001b[39m=\u001b[39m http_request(\n\u001b[0;32m    278\u001b[0m         host_creds\u001b[39m=\u001b[39mhost_creds, endpoint\u001b[39m=\u001b[39mendpoint, method\u001b[39m=\u001b[39mmethod, json\u001b[39m=\u001b[39mjson_body\n\u001b[0;32m    279\u001b[0m     )\n",
      "File \u001b[1;32m~\\AppData\\Local\\Packages\\PythonSoftwareFoundation.Python.3.9_qbz5n2kfra8p0\\LocalCache\\local-packages\\Python39\\site-packages\\mlflow\\utils\\rest_utils.py:184\u001b[0m, in \u001b[0;36mhttp_request\u001b[1;34m(host_creds, endpoint, method, max_retries, backoff_factor, retry_codes, timeout, **kwargs)\u001b[0m\n\u001b[0;32m    178\u001b[0m     \u001b[39mraise\u001b[39;00m MlflowException(\n\u001b[0;32m    179\u001b[0m         \u001b[39mf\u001b[39m\u001b[39m\"\u001b[39m\u001b[39mAPI request to \u001b[39m\u001b[39m{\u001b[39;00murl\u001b[39m}\u001b[39;00m\u001b[39m failed with timeout exception \u001b[39m\u001b[39m{\u001b[39;00mto\u001b[39m}\u001b[39;00m\u001b[39m.\u001b[39m\u001b[39m\"\u001b[39m\n\u001b[0;32m    180\u001b[0m         \u001b[39mf\u001b[39m\u001b[39m\"\u001b[39m\u001b[39m To increase the timeout, set the environment variable \u001b[39m\u001b[39m{\u001b[39;00mMLFLOW_HTTP_REQUEST_TIMEOUT\u001b[39m}\u001b[39;00m\u001b[39m\"\u001b[39m\n\u001b[0;32m    181\u001b[0m         \u001b[39m\"\u001b[39m\u001b[39m to a larger value.\u001b[39m\u001b[39m\"\u001b[39m\n\u001b[0;32m    182\u001b[0m     )\n\u001b[0;32m    183\u001b[0m \u001b[39mexcept\u001b[39;00m \u001b[39mException\u001b[39;00m \u001b[39mas\u001b[39;00m e:\n\u001b[1;32m--> 184\u001b[0m     \u001b[39mraise\u001b[39;00m MlflowException(\u001b[39m\"\u001b[39m\u001b[39mAPI request to \u001b[39m\u001b[39m%s\u001b[39;00m\u001b[39m failed with exception \u001b[39m\u001b[39m%s\u001b[39;00m\u001b[39m\"\u001b[39m \u001b[39m%\u001b[39m (url, e))\n",
      "\u001b[1;31mMlflowException\u001b[0m: API request to http://127.0.0.1:5000/api/2.0/mlflow/experiments/get-by-name failed with exception HTTPConnectionPool(host='127.0.0.1', port=5000): Max retries exceeded with url: /api/2.0/mlflow/experiments/get-by-name?experiment_name=Red-Blue-Experiment (Caused by NewConnectionError('<urllib3.connection.HTTPConnection object at 0x000002EAB70611F0>: Failed to establish a new connection: [WinError 10061] No connection could be made because the target machine actively refused it'))"
     ]
    }
   ],
   "source": [
    "import mlflow\n",
    "from mlflow.models.signature import infer_signature\n",
    "mlflow.set_tracking_uri(\"http://127.0.0.1:5000/\")\n",
    "mlflow.set_experiment(\"Red-Blue-Experiment\")"
   ]
  },
  {
   "cell_type": "code",
   "execution_count": 6,
   "id": "f4886f8f",
   "metadata": {
    "ExecuteTime": {
     "end_time": "2021-12-11T08:18:11.257249Z",
     "start_time": "2021-12-11T08:18:11.251166Z"
    }
   },
   "outputs": [
    {
     "name": "stdout",
     "output_type": "stream",
     "text": [
      "['./data/sample1.csv', './data/sample2.csv', './data/sample3.csv', './data/sample4.csv', './data/sample5.csv', './data/sample6.csv', './data/sample7.csv', './data/sample8.csv', './data/sample9.csv', './data/sample10.csv']\n"
     ]
    }
   ],
   "source": [
    "datas = [\"./data/sample\"+str(i)+\".csv\" for i in range(1,11)]\n",
    "print(datas)"
   ]
  },
  {
   "cell_type": "code",
   "execution_count": 7,
   "id": "654ae97e",
   "metadata": {
    "ExecuteTime": {
     "end_time": "2021-12-11T08:18:13.969421Z",
     "start_time": "2021-12-11T08:18:13.966206Z"
    }
   },
   "outputs": [],
   "source": [
    "model = KNeighborsClassifier(n_neighbors=7,leaf_size=40)\n",
    "params = {\"neighbours\":7,\"leaf_size\":40}"
   ]
  },
  {
   "cell_type": "code",
   "execution_count": 8,
   "id": "f9b7fbdd",
   "metadata": {
    "ExecuteTime": {
     "end_time": "2021-12-11T08:18:33.847594Z",
     "start_time": "2021-12-11T08:18:18.197263Z"
    }
   },
   "outputs": [
    {
     "name": "stdout",
     "output_type": "stream",
     "text": [
      "Training on:  ./data/sample1.csv\n",
      "Scaler Not Found! Will create a new one.\n",
      "Saving Scaler... {'min': array([-14.11956939, -10.66666815]), 'max': array([13.06496848,  8.44817363])}\n",
      "Training on:  ./data/sample2.csv\n",
      "Saving Scaler... {'min': array([-15.65758148, -12.20721314]), 'max': array([13.06496848,  8.87081208])}\n",
      "Training on:  ./data/sample3.csv\n",
      "Saving Scaler... {'min': array([-15.65758148, -12.20721314]), 'max': array([13.06496848, 14.50541762])}\n",
      "Training on:  ./data/sample4.csv\n",
      "Saving Scaler... {'min': array([-16.26008744, -12.20721314]), 'max': array([13.06496848, 14.95510978])}\n",
      "Training on:  ./data/sample5.csv\n",
      "Saving Scaler... {'min': array([-16.26008744, -12.20721314]), 'max': array([13.06496848, 14.95510978])}\n",
      "Training on:  ./data/sample6.csv\n",
      "Saving Scaler... {'min': array([-16.26008744, -12.20721314]), 'max': array([13.06496848, 14.95510978])}\n",
      "Training on:  ./data/sample7.csv\n",
      "Saving Scaler... {'min': array([-16.26008744, -12.20721314]), 'max': array([13.06496848, 14.95510978])}\n",
      "Training on:  ./data/sample8.csv\n",
      "Saving Scaler... {'min': array([-16.26008744, -14.70411995]), 'max': array([13.06496848, 14.95510978])}\n",
      "Training on:  ./data/sample9.csv\n",
      "Saving Scaler... {'min': array([-16.26008744, -14.70411995]), 'max': array([13.06496848, 15.24576771])}\n",
      "Training on:  ./data/sample10.csv\n",
      "Saving Scaler... {'min': array([-16.26008744, -14.70411995]), 'max': array([13.06496848, 15.24576771])}\n",
      "Training Complete.\n"
     ]
    }
   ],
   "source": [
    "for i,data in enumerate(datas):\n",
    "    print(\"Training on: \",data)\n",
    "    \n",
    "    df = pd.read_csv(data)\n",
    "    X, y = transform_data(df,\"scaler-knn\")  \n",
    "    \n",
    "    tag = {\"data\":\"sample\"+str(i), \"model\": \"KNN\"}\n",
    "    runname = \"knn-test-run-\" + str(datetime.datetime.now()).replace(\" \",\"T\")\n",
    "    with mlflow.start_run(run_name=runname) as run:\n",
    "        mlflow.set_tags(tag)                                    # Tags to help in tracking\n",
    "\n",
    "        metrics = train_model(X, y, model)                      # Training the model\n",
    "        mlflow.log_params(params)                               # Log params/hyperparameters used in experiement\n",
    "        \n",
    "        mlflow.log_metric(\"Avg CV\",sum(metrics[\"cv_score\"])/10) # Log metrics of the experiement\n",
    "        mlflow.log_metric(\"Accuracy\", metrics[\"accuracy\"])\n",
    "        \n",
    "        signature = infer_signature(X, model.predict(X))\n",
    "        mlflow.sklearn.log_model(model, artifact_path=\"models\", signature=signature) # Log model created\n",
    "    mlflow.end_run()\n",
    "print(\"Training Complete.\")"
   ]
  },
  {
   "cell_type": "markdown",
   "id": "704dbdb1",
   "metadata": {
    "ExecuteTime": {
     "end_time": "2021-11-29T12:13:43.664942Z",
     "start_time": "2021-11-29T12:13:43.641112Z"
    }
   },
   "source": [
    "### Test Prediction"
   ]
  },
  {
   "cell_type": "code",
   "execution_count": 9,
   "id": "0c497ab9",
   "metadata": {
    "ExecuteTime": {
     "end_time": "2021-12-11T08:18:44.719696Z",
     "start_time": "2021-12-11T08:18:44.706497Z"
    }
   },
   "outputs": [],
   "source": [
    "testdata = pd.read_csv(\"./data/testdata.csv\")\n",
    "testdata1 = testdata[:10].copy(deep=True)\n",
    "testdata1.drop(columns=[\"label\"],axis=1,inplace=True)"
   ]
  },
  {
   "cell_type": "code",
   "execution_count": 10,
   "id": "1ed5a0ad",
   "metadata": {
    "ExecuteTime": {
     "end_time": "2021-12-11T08:18:46.681096Z",
     "start_time": "2021-12-11T08:18:46.654373Z"
    },
    "cell_style": "split"
   },
   "outputs": [
    {
     "data": {
      "text/html": [
       "<div>\n",
       "<style scoped>\n",
       "    .dataframe tbody tr th:only-of-type {\n",
       "        vertical-align: middle;\n",
       "    }\n",
       "\n",
       "    .dataframe tbody tr th {\n",
       "        vertical-align: top;\n",
       "    }\n",
       "\n",
       "    .dataframe thead th {\n",
       "        text-align: right;\n",
       "    }\n",
       "</style>\n",
       "<table border=\"1\" class=\"dataframe\">\n",
       "  <thead>\n",
       "    <tr style=\"text-align: right;\">\n",
       "      <th></th>\n",
       "      <th>Coord_X</th>\n",
       "      <th>Coord_Y</th>\n",
       "    </tr>\n",
       "  </thead>\n",
       "  <tbody>\n",
       "    <tr>\n",
       "      <th>0</th>\n",
       "      <td>-12.118184</td>\n",
       "      <td>-4.776587</td>\n",
       "    </tr>\n",
       "    <tr>\n",
       "      <th>1</th>\n",
       "      <td>-9.893147</td>\n",
       "      <td>0.342965</td>\n",
       "    </tr>\n",
       "    <tr>\n",
       "      <th>2</th>\n",
       "      <td>-10.483853</td>\n",
       "      <td>-9.362718</td>\n",
       "    </tr>\n",
       "    <tr>\n",
       "      <th>3</th>\n",
       "      <td>-9.926457</td>\n",
       "      <td>-5.337223</td>\n",
       "    </tr>\n",
       "    <tr>\n",
       "      <th>4</th>\n",
       "      <td>6.855357</td>\n",
       "      <td>9.917814</td>\n",
       "    </tr>\n",
       "    <tr>\n",
       "      <th>5</th>\n",
       "      <td>-7.032794</td>\n",
       "      <td>-2.027453</td>\n",
       "    </tr>\n",
       "    <tr>\n",
       "      <th>6</th>\n",
       "      <td>-8.412141</td>\n",
       "      <td>-3.723905</td>\n",
       "    </tr>\n",
       "    <tr>\n",
       "      <th>7</th>\n",
       "      <td>-10.343032</td>\n",
       "      <td>-5.507503</td>\n",
       "    </tr>\n",
       "    <tr>\n",
       "      <th>8</th>\n",
       "      <td>-11.132471</td>\n",
       "      <td>-3.226087</td>\n",
       "    </tr>\n",
       "    <tr>\n",
       "      <th>9</th>\n",
       "      <td>9.028458</td>\n",
       "      <td>4.500849</td>\n",
       "    </tr>\n",
       "  </tbody>\n",
       "</table>\n",
       "</div>"
      ],
      "text/plain": [
       "     Coord_X   Coord_Y\n",
       "0 -12.118184 -4.776587\n",
       "1  -9.893147  0.342965\n",
       "2 -10.483853 -9.362718\n",
       "3  -9.926457 -5.337223\n",
       "4   6.855357  9.917814\n",
       "5  -7.032794 -2.027453\n",
       "6  -8.412141 -3.723905\n",
       "7 -10.343032 -5.507503\n",
       "8 -11.132471 -3.226087\n",
       "9   9.028458  4.500849"
      ]
     },
     "execution_count": 10,
     "metadata": {},
     "output_type": "execute_result"
    }
   ],
   "source": [
    "testdata1"
   ]
  },
  {
   "cell_type": "code",
   "execution_count": 11,
   "id": "bb364e1c",
   "metadata": {
    "ExecuteTime": {
     "end_time": "2021-12-11T08:18:50.169220Z",
     "start_time": "2021-12-11T08:18:50.157279Z"
    },
    "cell_style": "split"
   },
   "outputs": [
    {
     "data": {
      "text/html": [
       "<div>\n",
       "<style scoped>\n",
       "    .dataframe tbody tr th:only-of-type {\n",
       "        vertical-align: middle;\n",
       "    }\n",
       "\n",
       "    .dataframe tbody tr th {\n",
       "        vertical-align: top;\n",
       "    }\n",
       "\n",
       "    .dataframe thead th {\n",
       "        text-align: right;\n",
       "    }\n",
       "</style>\n",
       "<table border=\"1\" class=\"dataframe\">\n",
       "  <thead>\n",
       "    <tr style=\"text-align: right;\">\n",
       "      <th></th>\n",
       "      <th>Coord_X</th>\n",
       "      <th>Coord_Y</th>\n",
       "      <th>label</th>\n",
       "    </tr>\n",
       "  </thead>\n",
       "  <tbody>\n",
       "    <tr>\n",
       "      <th>0</th>\n",
       "      <td>-12.118184</td>\n",
       "      <td>-4.776587</td>\n",
       "      <td>Blue</td>\n",
       "    </tr>\n",
       "    <tr>\n",
       "      <th>1</th>\n",
       "      <td>-9.893147</td>\n",
       "      <td>0.342965</td>\n",
       "      <td>Blue</td>\n",
       "    </tr>\n",
       "    <tr>\n",
       "      <th>2</th>\n",
       "      <td>-10.483853</td>\n",
       "      <td>-9.362718</td>\n",
       "      <td>Blue</td>\n",
       "    </tr>\n",
       "    <tr>\n",
       "      <th>3</th>\n",
       "      <td>-9.926457</td>\n",
       "      <td>-5.337223</td>\n",
       "      <td>Blue</td>\n",
       "    </tr>\n",
       "    <tr>\n",
       "      <th>4</th>\n",
       "      <td>6.855357</td>\n",
       "      <td>9.917814</td>\n",
       "      <td>Red</td>\n",
       "    </tr>\n",
       "    <tr>\n",
       "      <th>5</th>\n",
       "      <td>-7.032794</td>\n",
       "      <td>-2.027453</td>\n",
       "      <td>Blue</td>\n",
       "    </tr>\n",
       "    <tr>\n",
       "      <th>6</th>\n",
       "      <td>-8.412141</td>\n",
       "      <td>-3.723905</td>\n",
       "      <td>Blue</td>\n",
       "    </tr>\n",
       "    <tr>\n",
       "      <th>7</th>\n",
       "      <td>-10.343032</td>\n",
       "      <td>-5.507503</td>\n",
       "      <td>Blue</td>\n",
       "    </tr>\n",
       "    <tr>\n",
       "      <th>8</th>\n",
       "      <td>-11.132471</td>\n",
       "      <td>-3.226087</td>\n",
       "      <td>Blue</td>\n",
       "    </tr>\n",
       "    <tr>\n",
       "      <th>9</th>\n",
       "      <td>9.028458</td>\n",
       "      <td>4.500849</td>\n",
       "      <td>Red</td>\n",
       "    </tr>\n",
       "  </tbody>\n",
       "</table>\n",
       "</div>"
      ],
      "text/plain": [
       "     Coord_X   Coord_Y label\n",
       "0 -12.118184 -4.776587  Blue\n",
       "1  -9.893147  0.342965  Blue\n",
       "2 -10.483853 -9.362718  Blue\n",
       "3  -9.926457 -5.337223  Blue\n",
       "4   6.855357  9.917814   Red\n",
       "5  -7.032794 -2.027453  Blue\n",
       "6  -8.412141 -3.723905  Blue\n",
       "7 -10.343032 -5.507503  Blue\n",
       "8 -11.132471 -3.226087  Blue\n",
       "9   9.028458  4.500849   Red"
      ]
     },
     "execution_count": 11,
     "metadata": {},
     "output_type": "execute_result"
    }
   ],
   "source": [
    "testdata[:10]"
   ]
  },
  {
   "cell_type": "code",
   "execution_count": 12,
   "id": "4073e5a2",
   "metadata": {
    "ExecuteTime": {
     "end_time": "2021-12-11T08:18:54.130528Z",
     "start_time": "2021-12-11T08:18:54.124246Z"
    }
   },
   "outputs": [],
   "source": [
    "scaleddata = scale_data(\"scaler-knn\",testdata1)"
   ]
  },
  {
   "cell_type": "code",
   "execution_count": 13,
   "id": "4c3fac48",
   "metadata": {
    "ExecuteTime": {
     "end_time": "2021-12-11T08:18:56.268745Z",
     "start_time": "2021-12-11T08:18:56.263935Z"
    }
   },
   "outputs": [
    {
     "data": {
      "text/plain": [
       "array([[0.14124111, 0.33147147],\n",
       "       [0.21711604, 0.50240871],\n",
       "       [0.19697265, 0.17834464],\n",
       "       [0.21598018, 0.31275232],\n",
       "       [0.78824895, 0.82210437],\n",
       "       [0.31465563, 0.42326257],\n",
       "       [0.26761915, 0.36661955],\n",
       "       [0.20177475, 0.30706681],\n",
       "       [0.17485446, 0.38324128],\n",
       "       [0.86235285, 0.64123676]])"
      ]
     },
     "execution_count": 13,
     "metadata": {},
     "output_type": "execute_result"
    }
   ],
   "source": [
    "scaleddata"
   ]
  },
  {
   "cell_type": "code",
   "execution_count": 18,
   "id": "6f9ab017",
   "metadata": {
    "ExecuteTime": {
     "end_time": "2021-12-11T08:24:08.498991Z",
     "start_time": "2021-12-11T08:24:08.467592Z"
    }
   },
   "outputs": [
    {
     "data": {
      "text/plain": [
       "array(['Blue', 'Blue', 'Blue', 'Blue', 'Red', 'Blue', 'Blue', 'Blue',\n",
       "       'Blue', 'Red'], dtype=object)"
      ]
     },
     "execution_count": 18,
     "metadata": {},
     "output_type": "execute_result"
    }
   ],
   "source": [
    "logged_model = 'runs:/ede4cc6ace71468ab2e881dc14d25f6b/models'\n",
    "loaded_model = mlflow.pyfunc.load_model(logged_model)\n",
    "loaded_model.predict(scaleddata)"
   ]
  },
  {
   "cell_type": "markdown",
   "id": "e8957199",
   "metadata": {},
   "source": [
    "---"
   ]
  },
  {
   "cell_type": "markdown",
   "id": "0854cab0",
   "metadata": {},
   "source": [
    "### Training and Tracking - Random Forest Classifier"
   ]
  },
  {
   "cell_type": "code",
   "execution_count": 14,
   "id": "577a84e6",
   "metadata": {
    "ExecuteTime": {
     "end_time": "2021-12-11T08:20:29.529621Z",
     "start_time": "2021-12-11T08:20:29.512247Z"
    }
   },
   "outputs": [],
   "source": [
    "from sklearn.ensemble import RandomForestClassifier"
   ]
  },
  {
   "cell_type": "code",
   "execution_count": 15,
   "id": "4d3cc3ba",
   "metadata": {
    "ExecuteTime": {
     "end_time": "2021-12-11T08:20:33.256858Z",
     "start_time": "2021-12-11T08:20:33.249628Z"
    }
   },
   "outputs": [],
   "source": [
    "model = RandomForestClassifier(n_estimators=250,max_depth=7)\n",
    "params = {\"estimators\":250,\"max_depth\":7}"
   ]
  },
  {
   "cell_type": "code",
   "execution_count": 17,
   "id": "95d062ac",
   "metadata": {
    "ExecuteTime": {
     "end_time": "2021-12-11T08:21:26.789187Z",
     "start_time": "2021-12-11T08:20:48.934623Z"
    }
   },
   "outputs": [
    {
     "name": "stdout",
     "output_type": "stream",
     "text": [
      "Training on:  ./data/sample1.csv\n",
      "Saving Scaler... {'min': array([-14.11956939, -10.66666815]), 'max': array([13.06496848,  8.44817363])}\n",
      "Training on:  ./data/sample2.csv\n",
      "Saving Scaler... {'min': array([-15.65758148, -12.20721314]), 'max': array([13.06496848,  8.87081208])}\n",
      "Training on:  ./data/sample3.csv\n",
      "Saving Scaler... {'min': array([-15.65758148, -12.20721314]), 'max': array([13.06496848, 14.50541762])}\n",
      "Training on:  ./data/sample4.csv\n",
      "Saving Scaler... {'min': array([-16.26008744, -12.20721314]), 'max': array([13.06496848, 14.95510978])}\n",
      "Training on:  ./data/sample5.csv\n",
      "Saving Scaler... {'min': array([-16.26008744, -12.20721314]), 'max': array([13.06496848, 14.95510978])}\n",
      "Training on:  ./data/sample6.csv\n",
      "Saving Scaler... {'min': array([-16.26008744, -12.20721314]), 'max': array([13.06496848, 14.95510978])}\n",
      "Training on:  ./data/sample7.csv\n",
      "Saving Scaler... {'min': array([-16.26008744, -12.20721314]), 'max': array([13.06496848, 14.95510978])}\n",
      "Training on:  ./data/sample8.csv\n",
      "Saving Scaler... {'min': array([-16.26008744, -14.70411995]), 'max': array([13.06496848, 14.95510978])}\n",
      "Training on:  ./data/sample9.csv\n",
      "Saving Scaler... {'min': array([-16.26008744, -14.70411995]), 'max': array([13.06496848, 15.24576771])}\n",
      "Training on:  ./data/sample10.csv\n",
      "Saving Scaler... {'min': array([-16.26008744, -14.70411995]), 'max': array([13.06496848, 15.24576771])}\n"
     ]
    }
   ],
   "source": [
    "for i,data in enumerate(datas):\n",
    "    print(\"Training on: \",data)\n",
    "    df = pd.read_csv(data)\n",
    "    X, y = transform_data(df,\"scaler-rfc\")  \n",
    "    tag = {\"data\":\"sample\"+str(i), \"model\": \"RandomForestClassifier\", }\n",
    "    with mlflow.start_run(run_name=\"random-forest-test-run\"+str(i)):\n",
    "        mlflow.set_tags(tag)\n",
    "        metrics = train_model(X, y, model)\n",
    "        mlflow.log_params(params)\n",
    "\n",
    "        mlflow.log_metric(\"Avg CV\",sum(metrics[\"cv_score\"])/10)\n",
    "        mlflow.log_metric(\"Accuracy\", metrics[\"accuracy\"])\n",
    "        mlflow.sklearn.log_model(model, artifact_path=\"models\")\n",
    "    mlflow.end_run()"
   ]
  },
  {
   "cell_type": "markdown",
   "id": "a2276295",
   "metadata": {
    "ExecuteTime": {
     "end_time": "2021-11-29T12:13:43.664942Z",
     "start_time": "2021-11-29T12:13:43.641112Z"
    }
   },
   "source": [
    "### Test Prediction"
   ]
  },
  {
   "cell_type": "code",
   "execution_count": null,
   "id": "30a445e5",
   "metadata": {
    "ExecuteTime": {
     "end_time": "2021-12-08T06:35:40.027045Z",
     "start_time": "2021-12-08T06:35:40.009736Z"
    }
   },
   "outputs": [],
   "source": [
    "testdata = pd.read_csv(\"./data-acc/testdata.csv\")\n",
    "testdata1 = testdata[30:40].copy(deep=True)\n",
    "testdata1.drop(columns=[\"label\"],axis=1,inplace=True)"
   ]
  },
  {
   "cell_type": "code",
   "execution_count": null,
   "id": "0190fb53",
   "metadata": {
    "ExecuteTime": {
     "end_time": "2021-12-08T06:35:41.791653Z",
     "start_time": "2021-12-08T06:35:41.779008Z"
    },
    "cell_style": "split"
   },
   "outputs": [],
   "source": [
    "testdata1"
   ]
  },
  {
   "cell_type": "code",
   "execution_count": null,
   "id": "334bf80e",
   "metadata": {
    "ExecuteTime": {
     "end_time": "2021-12-08T06:35:43.909319Z",
     "start_time": "2021-12-08T06:35:43.897923Z"
    },
    "cell_style": "split"
   },
   "outputs": [],
   "source": [
    "testdata[30:40]"
   ]
  },
  {
   "cell_type": "code",
   "execution_count": null,
   "id": "39db9adc",
   "metadata": {
    "ExecuteTime": {
     "end_time": "2021-12-08T06:35:47.724392Z",
     "start_time": "2021-12-08T06:35:47.713898Z"
    }
   },
   "outputs": [],
   "source": [
    "scaleddata = scale_data(\"scaler-rfc\",testdata1)"
   ]
  },
  {
   "cell_type": "code",
   "execution_count": null,
   "id": "e48798ac",
   "metadata": {
    "ExecuteTime": {
     "end_time": "2021-12-08T06:35:55.730557Z",
     "start_time": "2021-12-08T06:35:55.668855Z"
    }
   },
   "outputs": [],
   "source": [
    "logged_model = 'runs:/717a5c0404fd481b9b2089914b6f14f7/models'\n",
    "loaded_model = mlflow.pyfunc.load_model(logged_model)\n",
    "loaded_model.predict(scaleddata)"
   ]
  }
 ],
 "metadata": {
  "kernelspec": {
   "display_name": "Python 3.9.13 64-bit (microsoft store)",
   "language": "python",
   "name": "python3"
  },
  "language_info": {
   "codemirror_mode": {
    "name": "ipython",
    "version": 3
   },
   "file_extension": ".py",
   "mimetype": "text/x-python",
   "name": "python",
   "nbconvert_exporter": "python",
   "pygments_lexer": "ipython3",
   "version": "3.9.13"
  },
  "latex_envs": {
   "LaTeX_envs_menu_present": true,
   "autoclose": false,
   "autocomplete": true,
   "bibliofile": "biblio.bib",
   "cite_by": "apalike",
   "current_citInitial": 1,
   "eqLabelWithNumbers": true,
   "eqNumInitial": 1,
   "hotkeys": {
    "equation": "Ctrl-E",
    "itemize": "Ctrl-I"
   },
   "labels_anchors": false,
   "latex_user_defs": false,
   "report_style_numbering": false,
   "user_envs_cfg": false
  },
  "vscode": {
   "interpreter": {
    "hash": "0251fbbfe7ed79d0ea37b876af37aad4b5b0621b5b67d3d30962065895503ddb"
   }
  }
 },
 "nbformat": 4,
 "nbformat_minor": 5
}
